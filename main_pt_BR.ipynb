{
  "cells": [
    {
      "cell_type": "markdown",
      "metadata": {
        "id": "view-in-github",
        "colab_type": "text"
      },
      "source": [
        "<a href=\"https://colab.research.google.com/github/proffranciscofernando/house_price_prediction/blob/main/main_pt_BR.ipynb\" target=\"_parent\"><img src=\"https://colab.research.google.com/assets/colab-badge.svg\" alt=\"Open In Colab\"/></a>"
      ]
    },
    {
      "cell_type": "markdown",
      "metadata": {
        "id": "-Roui7OBxIKO"
      },
      "source": [
        "# Previsão de Preços de Casas na Califórnia - Pipeline de ML\n",
        "\n",
        "Este notebook demonstra um pipeline de aprendizado de máquina construído com Scikit-Learn para prever os preços das casas na Califórnia. Ele abrange o pré-processamento de dados, treinamento do modelo, otimização de hiperparâmetros usando Grid Search com validação cruzada e uma interface interativa para fazer previsões com base na entrada do usuário."
      ]
    },
    {
      "cell_type": "markdown",
      "metadata": {
        "id": "it-dJE1kxIKS"
      },
      "source": [
        "## 1. Importando Bibliotecas Necessárias\n",
        "\n",
        "Primeiramente, importamos todas as bibliotecas necessárias e suprimimos quaisquer avisos não críticos para uma saída mais limpa."
      ]
    },
    {
      "cell_type": "code",
      "execution_count": 1,
      "metadata": {
        "id": "EEsr3hV2xIKS"
      },
      "outputs": [],
      "source": [
        "# Importando Bibliotecas Necessárias e Suprimindo Avisos\n",
        "\n",
        "import numpy as np\n",
        "import pandas as pd\n",
        "\n",
        "from sklearn.pipeline import Pipeline\n",
        "from sklearn.preprocessing import StandardScaler, OneHotEncoder\n",
        "from sklearn.compose import ColumnTransformer\n",
        "from sklearn.model_selection import train_test_split, GridSearchCV\n",
        "from sklearn.linear_model import LinearRegression, Ridge, Lasso\n",
        "from sklearn.ensemble import RandomForestRegressor\n",
        "from sklearn.svm import SVR\n",
        "from sklearn.metrics import mean_absolute_error, mean_squared_error, r2_score\n",
        "\n",
        "import joblib  # Para salvar e carregar o modelo\n",
        "\n",
        "# Suprimindo avisos\n",
        "import warnings\n",
        "warnings.filterwarnings('ignore')"
      ]
    },
    {
      "cell_type": "markdown",
      "metadata": {
        "id": "3Q-ouvbcxIKT"
      },
      "source": [
        "## 2. Carregando e Explorando o Conjunto de Dados\n",
        "\n",
        "Usaremos o **California Housing Dataset** para prever os preços das casas."
      ]
    },
    {
      "cell_type": "markdown",
      "metadata": {
        "id": "gFtpRAJZxIKU"
      },
      "source": [
        "### 2.1 Carregando o Conjunto de Dados"
      ]
    },
    {
      "cell_type": "code",
      "execution_count": 2,
      "metadata": {
        "colab": {
          "base_uri": "https://localhost:8080/",
          "height": 206
        },
        "id": "G6CzwbcYxIKU",
        "outputId": "297d0908-5b98-4948-8c65-2e715676eda7"
      },
      "outputs": [
        {
          "output_type": "execute_result",
          "data": {
            "text/plain": [
              "   MedInc  HouseAge  AveRooms  AveBedrms  Population  AveOccup  Latitude  \\\n",
              "0  8.3252      41.0  6.984127   1.023810       322.0  2.555556     37.88   \n",
              "1  8.3014      21.0  6.238137   0.971880      2401.0  2.109842     37.86   \n",
              "2  7.2574      52.0  8.288136   1.073446       496.0  2.802260     37.85   \n",
              "3  5.6431      52.0  5.817352   1.073059       558.0  2.547945     37.85   \n",
              "4  3.8462      52.0  6.281853   1.081081       565.0  2.181467     37.85   \n",
              "\n",
              "   Longitude  MedHouseVal  \n",
              "0    -122.23        4.526  \n",
              "1    -122.22        3.585  \n",
              "2    -122.24        3.521  \n",
              "3    -122.25        3.413  \n",
              "4    -122.25        3.422  "
            ],
            "text/html": [
              "\n",
              "  <div id=\"df-29eaacf6-33c0-46af-8379-c8dac31db636\" class=\"colab-df-container\">\n",
              "    <div>\n",
              "<style scoped>\n",
              "    .dataframe tbody tr th:only-of-type {\n",
              "        vertical-align: middle;\n",
              "    }\n",
              "\n",
              "    .dataframe tbody tr th {\n",
              "        vertical-align: top;\n",
              "    }\n",
              "\n",
              "    .dataframe thead th {\n",
              "        text-align: right;\n",
              "    }\n",
              "</style>\n",
              "<table border=\"1\" class=\"dataframe\">\n",
              "  <thead>\n",
              "    <tr style=\"text-align: right;\">\n",
              "      <th></th>\n",
              "      <th>MedInc</th>\n",
              "      <th>HouseAge</th>\n",
              "      <th>AveRooms</th>\n",
              "      <th>AveBedrms</th>\n",
              "      <th>Population</th>\n",
              "      <th>AveOccup</th>\n",
              "      <th>Latitude</th>\n",
              "      <th>Longitude</th>\n",
              "      <th>MedHouseVal</th>\n",
              "    </tr>\n",
              "  </thead>\n",
              "  <tbody>\n",
              "    <tr>\n",
              "      <th>0</th>\n",
              "      <td>8.3252</td>\n",
              "      <td>41.0</td>\n",
              "      <td>6.984127</td>\n",
              "      <td>1.023810</td>\n",
              "      <td>322.0</td>\n",
              "      <td>2.555556</td>\n",
              "      <td>37.88</td>\n",
              "      <td>-122.23</td>\n",
              "      <td>4.526</td>\n",
              "    </tr>\n",
              "    <tr>\n",
              "      <th>1</th>\n",
              "      <td>8.3014</td>\n",
              "      <td>21.0</td>\n",
              "      <td>6.238137</td>\n",
              "      <td>0.971880</td>\n",
              "      <td>2401.0</td>\n",
              "      <td>2.109842</td>\n",
              "      <td>37.86</td>\n",
              "      <td>-122.22</td>\n",
              "      <td>3.585</td>\n",
              "    </tr>\n",
              "    <tr>\n",
              "      <th>2</th>\n",
              "      <td>7.2574</td>\n",
              "      <td>52.0</td>\n",
              "      <td>8.288136</td>\n",
              "      <td>1.073446</td>\n",
              "      <td>496.0</td>\n",
              "      <td>2.802260</td>\n",
              "      <td>37.85</td>\n",
              "      <td>-122.24</td>\n",
              "      <td>3.521</td>\n",
              "    </tr>\n",
              "    <tr>\n",
              "      <th>3</th>\n",
              "      <td>5.6431</td>\n",
              "      <td>52.0</td>\n",
              "      <td>5.817352</td>\n",
              "      <td>1.073059</td>\n",
              "      <td>558.0</td>\n",
              "      <td>2.547945</td>\n",
              "      <td>37.85</td>\n",
              "      <td>-122.25</td>\n",
              "      <td>3.413</td>\n",
              "    </tr>\n",
              "    <tr>\n",
              "      <th>4</th>\n",
              "      <td>3.8462</td>\n",
              "      <td>52.0</td>\n",
              "      <td>6.281853</td>\n",
              "      <td>1.081081</td>\n",
              "      <td>565.0</td>\n",
              "      <td>2.181467</td>\n",
              "      <td>37.85</td>\n",
              "      <td>-122.25</td>\n",
              "      <td>3.422</td>\n",
              "    </tr>\n",
              "  </tbody>\n",
              "</table>\n",
              "</div>\n",
              "    <div class=\"colab-df-buttons\">\n",
              "\n",
              "  <div class=\"colab-df-container\">\n",
              "    <button class=\"colab-df-convert\" onclick=\"convertToInteractive('df-29eaacf6-33c0-46af-8379-c8dac31db636')\"\n",
              "            title=\"Convert this dataframe to an interactive table.\"\n",
              "            style=\"display:none;\">\n",
              "\n",
              "  <svg xmlns=\"http://www.w3.org/2000/svg\" height=\"24px\" viewBox=\"0 -960 960 960\">\n",
              "    <path d=\"M120-120v-720h720v720H120Zm60-500h600v-160H180v160Zm220 220h160v-160H400v160Zm0 220h160v-160H400v160ZM180-400h160v-160H180v160Zm440 0h160v-160H620v160ZM180-180h160v-160H180v160Zm440 0h160v-160H620v160Z\"/>\n",
              "  </svg>\n",
              "    </button>\n",
              "\n",
              "  <style>\n",
              "    .colab-df-container {\n",
              "      display:flex;\n",
              "      gap: 12px;\n",
              "    }\n",
              "\n",
              "    .colab-df-convert {\n",
              "      background-color: #E8F0FE;\n",
              "      border: none;\n",
              "      border-radius: 50%;\n",
              "      cursor: pointer;\n",
              "      display: none;\n",
              "      fill: #1967D2;\n",
              "      height: 32px;\n",
              "      padding: 0 0 0 0;\n",
              "      width: 32px;\n",
              "    }\n",
              "\n",
              "    .colab-df-convert:hover {\n",
              "      background-color: #E2EBFA;\n",
              "      box-shadow: 0px 1px 2px rgba(60, 64, 67, 0.3), 0px 1px 3px 1px rgba(60, 64, 67, 0.15);\n",
              "      fill: #174EA6;\n",
              "    }\n",
              "\n",
              "    .colab-df-buttons div {\n",
              "      margin-bottom: 4px;\n",
              "    }\n",
              "\n",
              "    [theme=dark] .colab-df-convert {\n",
              "      background-color: #3B4455;\n",
              "      fill: #D2E3FC;\n",
              "    }\n",
              "\n",
              "    [theme=dark] .colab-df-convert:hover {\n",
              "      background-color: #434B5C;\n",
              "      box-shadow: 0px 1px 3px 1px rgba(0, 0, 0, 0.15);\n",
              "      filter: drop-shadow(0px 1px 2px rgba(0, 0, 0, 0.3));\n",
              "      fill: #FFFFFF;\n",
              "    }\n",
              "  </style>\n",
              "\n",
              "    <script>\n",
              "      const buttonEl =\n",
              "        document.querySelector('#df-29eaacf6-33c0-46af-8379-c8dac31db636 button.colab-df-convert');\n",
              "      buttonEl.style.display =\n",
              "        google.colab.kernel.accessAllowed ? 'block' : 'none';\n",
              "\n",
              "      async function convertToInteractive(key) {\n",
              "        const element = document.querySelector('#df-29eaacf6-33c0-46af-8379-c8dac31db636');\n",
              "        const dataTable =\n",
              "          await google.colab.kernel.invokeFunction('convertToInteractive',\n",
              "                                                    [key], {});\n",
              "        if (!dataTable) return;\n",
              "\n",
              "        const docLinkHtml = 'Like what you see? Visit the ' +\n",
              "          '<a target=\"_blank\" href=https://colab.research.google.com/notebooks/data_table.ipynb>data table notebook</a>'\n",
              "          + ' to learn more about interactive tables.';\n",
              "        element.innerHTML = '';\n",
              "        dataTable['output_type'] = 'display_data';\n",
              "        await google.colab.output.renderOutput(dataTable, element);\n",
              "        const docLink = document.createElement('div');\n",
              "        docLink.innerHTML = docLinkHtml;\n",
              "        element.appendChild(docLink);\n",
              "      }\n",
              "    </script>\n",
              "  </div>\n",
              "\n",
              "\n",
              "<div id=\"df-299f47b7-190e-46b5-8986-1c0e8b84fa11\">\n",
              "  <button class=\"colab-df-quickchart\" onclick=\"quickchart('df-299f47b7-190e-46b5-8986-1c0e8b84fa11')\"\n",
              "            title=\"Suggest charts\"\n",
              "            style=\"display:none;\">\n",
              "\n",
              "<svg xmlns=\"http://www.w3.org/2000/svg\" height=\"24px\"viewBox=\"0 0 24 24\"\n",
              "     width=\"24px\">\n",
              "    <g>\n",
              "        <path d=\"M19 3H5c-1.1 0-2 .9-2 2v14c0 1.1.9 2 2 2h14c1.1 0 2-.9 2-2V5c0-1.1-.9-2-2-2zM9 17H7v-7h2v7zm4 0h-2V7h2v10zm4 0h-2v-4h2v4z\"/>\n",
              "    </g>\n",
              "</svg>\n",
              "  </button>\n",
              "\n",
              "<style>\n",
              "  .colab-df-quickchart {\n",
              "      --bg-color: #E8F0FE;\n",
              "      --fill-color: #1967D2;\n",
              "      --hover-bg-color: #E2EBFA;\n",
              "      --hover-fill-color: #174EA6;\n",
              "      --disabled-fill-color: #AAA;\n",
              "      --disabled-bg-color: #DDD;\n",
              "  }\n",
              "\n",
              "  [theme=dark] .colab-df-quickchart {\n",
              "      --bg-color: #3B4455;\n",
              "      --fill-color: #D2E3FC;\n",
              "      --hover-bg-color: #434B5C;\n",
              "      --hover-fill-color: #FFFFFF;\n",
              "      --disabled-bg-color: #3B4455;\n",
              "      --disabled-fill-color: #666;\n",
              "  }\n",
              "\n",
              "  .colab-df-quickchart {\n",
              "    background-color: var(--bg-color);\n",
              "    border: none;\n",
              "    border-radius: 50%;\n",
              "    cursor: pointer;\n",
              "    display: none;\n",
              "    fill: var(--fill-color);\n",
              "    height: 32px;\n",
              "    padding: 0;\n",
              "    width: 32px;\n",
              "  }\n",
              "\n",
              "  .colab-df-quickchart:hover {\n",
              "    background-color: var(--hover-bg-color);\n",
              "    box-shadow: 0 1px 2px rgba(60, 64, 67, 0.3), 0 1px 3px 1px rgba(60, 64, 67, 0.15);\n",
              "    fill: var(--button-hover-fill-color);\n",
              "  }\n",
              "\n",
              "  .colab-df-quickchart-complete:disabled,\n",
              "  .colab-df-quickchart-complete:disabled:hover {\n",
              "    background-color: var(--disabled-bg-color);\n",
              "    fill: var(--disabled-fill-color);\n",
              "    box-shadow: none;\n",
              "  }\n",
              "\n",
              "  .colab-df-spinner {\n",
              "    border: 2px solid var(--fill-color);\n",
              "    border-color: transparent;\n",
              "    border-bottom-color: var(--fill-color);\n",
              "    animation:\n",
              "      spin 1s steps(1) infinite;\n",
              "  }\n",
              "\n",
              "  @keyframes spin {\n",
              "    0% {\n",
              "      border-color: transparent;\n",
              "      border-bottom-color: var(--fill-color);\n",
              "      border-left-color: var(--fill-color);\n",
              "    }\n",
              "    20% {\n",
              "      border-color: transparent;\n",
              "      border-left-color: var(--fill-color);\n",
              "      border-top-color: var(--fill-color);\n",
              "    }\n",
              "    30% {\n",
              "      border-color: transparent;\n",
              "      border-left-color: var(--fill-color);\n",
              "      border-top-color: var(--fill-color);\n",
              "      border-right-color: var(--fill-color);\n",
              "    }\n",
              "    40% {\n",
              "      border-color: transparent;\n",
              "      border-right-color: var(--fill-color);\n",
              "      border-top-color: var(--fill-color);\n",
              "    }\n",
              "    60% {\n",
              "      border-color: transparent;\n",
              "      border-right-color: var(--fill-color);\n",
              "    }\n",
              "    80% {\n",
              "      border-color: transparent;\n",
              "      border-right-color: var(--fill-color);\n",
              "      border-bottom-color: var(--fill-color);\n",
              "    }\n",
              "    90% {\n",
              "      border-color: transparent;\n",
              "      border-bottom-color: var(--fill-color);\n",
              "    }\n",
              "  }\n",
              "</style>\n",
              "\n",
              "  <script>\n",
              "    async function quickchart(key) {\n",
              "      const quickchartButtonEl =\n",
              "        document.querySelector('#' + key + ' button');\n",
              "      quickchartButtonEl.disabled = true;  // To prevent multiple clicks.\n",
              "      quickchartButtonEl.classList.add('colab-df-spinner');\n",
              "      try {\n",
              "        const charts = await google.colab.kernel.invokeFunction(\n",
              "            'suggestCharts', [key], {});\n",
              "      } catch (error) {\n",
              "        console.error('Error during call to suggestCharts:', error);\n",
              "      }\n",
              "      quickchartButtonEl.classList.remove('colab-df-spinner');\n",
              "      quickchartButtonEl.classList.add('colab-df-quickchart-complete');\n",
              "    }\n",
              "    (() => {\n",
              "      let quickchartButtonEl =\n",
              "        document.querySelector('#df-299f47b7-190e-46b5-8986-1c0e8b84fa11 button');\n",
              "      quickchartButtonEl.style.display =\n",
              "        google.colab.kernel.accessAllowed ? 'block' : 'none';\n",
              "    })();\n",
              "  </script>\n",
              "</div>\n",
              "\n",
              "    </div>\n",
              "  </div>\n"
            ],
            "application/vnd.google.colaboratory.intrinsic+json": {
              "type": "dataframe",
              "variable_name": "df",
              "summary": "{\n  \"name\": \"df\",\n  \"rows\": 20640,\n  \"fields\": [\n    {\n      \"column\": \"MedInc\",\n      \"properties\": {\n        \"dtype\": \"number\",\n        \"std\": 1.8998217179452732,\n        \"min\": 0.4999,\n        \"max\": 15.0001,\n        \"num_unique_values\": 12928,\n        \"samples\": [\n          5.0286,\n          2.0433,\n          6.1228\n        ],\n        \"semantic_type\": \"\",\n        \"description\": \"\"\n      }\n    },\n    {\n      \"column\": \"HouseAge\",\n      \"properties\": {\n        \"dtype\": \"number\",\n        \"std\": 12.585557612111637,\n        \"min\": 1.0,\n        \"max\": 52.0,\n        \"num_unique_values\": 52,\n        \"samples\": [\n          35.0,\n          25.0,\n          7.0\n        ],\n        \"semantic_type\": \"\",\n        \"description\": \"\"\n      }\n    },\n    {\n      \"column\": \"AveRooms\",\n      \"properties\": {\n        \"dtype\": \"number\",\n        \"std\": 2.4741731394243205,\n        \"min\": 0.8461538461538461,\n        \"max\": 141.9090909090909,\n        \"num_unique_values\": 19392,\n        \"samples\": [\n          6.111269614835948,\n          5.912820512820513,\n          5.7924528301886795\n        ],\n        \"semantic_type\": \"\",\n        \"description\": \"\"\n      }\n    },\n    {\n      \"column\": \"AveBedrms\",\n      \"properties\": {\n        \"dtype\": \"number\",\n        \"std\": 0.47391085679546435,\n        \"min\": 0.3333333333333333,\n        \"max\": 34.06666666666667,\n        \"num_unique_values\": 14233,\n        \"samples\": [\n          0.9906542056074766,\n          1.112099644128114,\n          1.0398230088495575\n        ],\n        \"semantic_type\": \"\",\n        \"description\": \"\"\n      }\n    },\n    {\n      \"column\": \"Population\",\n      \"properties\": {\n        \"dtype\": \"number\",\n        \"std\": 1132.4621217653375,\n        \"min\": 3.0,\n        \"max\": 35682.0,\n        \"num_unique_values\": 3888,\n        \"samples\": [\n          4169.0,\n          636.0,\n          3367.0\n        ],\n        \"semantic_type\": \"\",\n        \"description\": \"\"\n      }\n    },\n    {\n      \"column\": \"AveOccup\",\n      \"properties\": {\n        \"dtype\": \"number\",\n        \"std\": 10.386049562213591,\n        \"min\": 0.6923076923076923,\n        \"max\": 1243.3333333333333,\n        \"num_unique_values\": 18841,\n        \"samples\": [\n          2.6939799331103678,\n          3.559375,\n          3.297082228116711\n        ],\n        \"semantic_type\": \"\",\n        \"description\": \"\"\n      }\n    },\n    {\n      \"column\": \"Latitude\",\n      \"properties\": {\n        \"dtype\": \"number\",\n        \"std\": 2.1359523974571117,\n        \"min\": 32.54,\n        \"max\": 41.95,\n        \"num_unique_values\": 862,\n        \"samples\": [\n          33.7,\n          34.41,\n          38.24\n        ],\n        \"semantic_type\": \"\",\n        \"description\": \"\"\n      }\n    },\n    {\n      \"column\": \"Longitude\",\n      \"properties\": {\n        \"dtype\": \"number\",\n        \"std\": 2.003531723502581,\n        \"min\": -124.35,\n        \"max\": -114.31,\n        \"num_unique_values\": 844,\n        \"samples\": [\n          -118.63,\n          -119.86,\n          -121.26\n        ],\n        \"semantic_type\": \"\",\n        \"description\": \"\"\n      }\n    },\n    {\n      \"column\": \"MedHouseVal\",\n      \"properties\": {\n        \"dtype\": \"number\",\n        \"std\": 1.1539561587441483,\n        \"min\": 0.14999,\n        \"max\": 5.00001,\n        \"num_unique_values\": 3842,\n        \"samples\": [\n          1.943,\n          3.79,\n          2.301\n        ],\n        \"semantic_type\": \"\",\n        \"description\": \"\"\n      }\n    }\n  ]\n}"
            }
          },
          "metadata": {},
          "execution_count": 2
        }
      ],
      "source": [
        "# Carregando o conjunto de dados\n",
        "from sklearn.datasets import fetch_california_housing\n",
        "\n",
        "data = fetch_california_housing(as_frame=True)\n",
        "df = data.frame\n",
        "\n",
        "# Visualizando as primeiras linhas\n",
        "df.head()"
      ]
    },
    {
      "cell_type": "markdown",
      "metadata": {
        "id": "LDBretbRxIKU"
      },
      "source": [
        "### 2.2 Análise Exploratória de Dados\n",
        "\n",
        "Vamos verificar as informações básicas do conjunto de dados para entender sua estrutura."
      ]
    },
    {
      "cell_type": "code",
      "execution_count": 3,
      "metadata": {
        "colab": {
          "base_uri": "https://localhost:8080/"
        },
        "id": "_SkpdWvCxIKU",
        "outputId": "f3910e63-1519-41b3-f502-2cd34d66489c"
      },
      "outputs": [
        {
          "output_type": "stream",
          "name": "stdout",
          "text": [
            "<class 'pandas.core.frame.DataFrame'>\n",
            "RangeIndex: 20640 entries, 0 to 20639\n",
            "Data columns (total 9 columns):\n",
            " #   Column       Non-Null Count  Dtype  \n",
            "---  ------       --------------  -----  \n",
            " 0   MedInc       20640 non-null  float64\n",
            " 1   HouseAge     20640 non-null  float64\n",
            " 2   AveRooms     20640 non-null  float64\n",
            " 3   AveBedrms    20640 non-null  float64\n",
            " 4   Population   20640 non-null  float64\n",
            " 5   AveOccup     20640 non-null  float64\n",
            " 6   Latitude     20640 non-null  float64\n",
            " 7   Longitude    20640 non-null  float64\n",
            " 8   MedHouseVal  20640 non-null  float64\n",
            "dtypes: float64(9)\n",
            "memory usage: 1.4 MB\n"
          ]
        }
      ],
      "source": [
        "# Informações básicas sobre o conjunto de dados\n",
        "df.info()"
      ]
    },
    {
      "cell_type": "markdown",
      "metadata": {
        "id": "d80c9d2fxIKV"
      },
      "source": [
        "### 2.3 Selecionando Recursos e Variável Alvo\n",
        "\n",
        "Selecionaremos algumas colunas relevantes para simplificar o exemplo."
      ]
    },
    {
      "cell_type": "code",
      "execution_count": 4,
      "metadata": {
        "id": "uy1pMWovxIKV"
      },
      "outputs": [],
      "source": [
        "# Selecionando recursos e variável alvo\n",
        "X = df.drop('MedHouseVal', axis=1)\n",
        "y = df['MedHouseVal']"
      ]
    },
    {
      "cell_type": "markdown",
      "metadata": {
        "id": "oGaH1PPwxIKV"
      },
      "source": [
        "### 2.4 Tratando Valores Ausentes\n",
        "\n",
        "Verificaremos se existem valores ausentes nos dados selecionados."
      ]
    },
    {
      "cell_type": "code",
      "execution_count": 5,
      "metadata": {
        "colab": {
          "base_uri": "https://localhost:8080/",
          "height": 335
        },
        "id": "KnOaMtnrxIKV",
        "outputId": "916ec8f8-6473-47ad-e400-76fd65bbee1f"
      },
      "outputs": [
        {
          "output_type": "execute_result",
          "data": {
            "text/plain": [
              "MedInc        0\n",
              "HouseAge      0\n",
              "AveRooms      0\n",
              "AveBedrms     0\n",
              "Population    0\n",
              "AveOccup      0\n",
              "Latitude      0\n",
              "Longitude     0\n",
              "dtype: int64"
            ],
            "text/html": [
              "<div>\n",
              "<style scoped>\n",
              "    .dataframe tbody tr th:only-of-type {\n",
              "        vertical-align: middle;\n",
              "    }\n",
              "\n",
              "    .dataframe tbody tr th {\n",
              "        vertical-align: top;\n",
              "    }\n",
              "\n",
              "    .dataframe thead th {\n",
              "        text-align: right;\n",
              "    }\n",
              "</style>\n",
              "<table border=\"1\" class=\"dataframe\">\n",
              "  <thead>\n",
              "    <tr style=\"text-align: right;\">\n",
              "      <th></th>\n",
              "      <th>0</th>\n",
              "    </tr>\n",
              "  </thead>\n",
              "  <tbody>\n",
              "    <tr>\n",
              "      <th>MedInc</th>\n",
              "      <td>0</td>\n",
              "    </tr>\n",
              "    <tr>\n",
              "      <th>HouseAge</th>\n",
              "      <td>0</td>\n",
              "    </tr>\n",
              "    <tr>\n",
              "      <th>AveRooms</th>\n",
              "      <td>0</td>\n",
              "    </tr>\n",
              "    <tr>\n",
              "      <th>AveBedrms</th>\n",
              "      <td>0</td>\n",
              "    </tr>\n",
              "    <tr>\n",
              "      <th>Population</th>\n",
              "      <td>0</td>\n",
              "    </tr>\n",
              "    <tr>\n",
              "      <th>AveOccup</th>\n",
              "      <td>0</td>\n",
              "    </tr>\n",
              "    <tr>\n",
              "      <th>Latitude</th>\n",
              "      <td>0</td>\n",
              "    </tr>\n",
              "    <tr>\n",
              "      <th>Longitude</th>\n",
              "      <td>0</td>\n",
              "    </tr>\n",
              "  </tbody>\n",
              "</table>\n",
              "</div><br><label><b>dtype:</b> int64</label>"
            ]
          },
          "metadata": {},
          "execution_count": 5
        }
      ],
      "source": [
        "# Verificando valores ausentes\n",
        "X.isnull().sum()"
      ]
    },
    {
      "cell_type": "markdown",
      "metadata": {
        "id": "qo-9WJumxIKW"
      },
      "source": [
        "Como podemos ver, não há valores ausentes no conjunto de dados."
      ]
    },
    {
      "cell_type": "markdown",
      "metadata": {
        "id": "dQfgjoAIxIKW"
      },
      "source": [
        "## 3. Preparação dos Dados"
      ]
    },
    {
      "cell_type": "markdown",
      "metadata": {
        "id": "SZV2PwrzxIKW"
      },
      "source": [
        "### 3.1 Dividindo os Dados em Conjuntos de Treinamento e Teste\n",
        "\n",
        "Dividimos o conjunto de dados em conjuntos de treinamento e teste para avaliar o desempenho dos modelos."
      ]
    },
    {
      "cell_type": "code",
      "execution_count": 6,
      "metadata": {
        "id": "nG_jljQ_xIKW"
      },
      "outputs": [],
      "source": [
        "# Dividindo os dados em conjuntos de treinamento e teste\n",
        "X_train, X_test, y_train, y_test = train_test_split(X, y, test_size=0.2, random_state=42)"
      ]
    },
    {
      "cell_type": "markdown",
      "metadata": {
        "id": "cedkBHjXxIKW"
      },
      "source": [
        "## 4. Construindo o Pipeline"
      ]
    },
    {
      "cell_type": "markdown",
      "metadata": {
        "id": "2E7pgeSAxIKW"
      },
      "source": [
        "### 4.1 Criando o Pipeline de Pré-processamento\n",
        "\n",
        "Definimos transformações para colunas numéricas e categóricas."
      ]
    },
    {
      "cell_type": "code",
      "execution_count": 7,
      "metadata": {
        "id": "i_VtzBqDxIKW"
      },
      "outputs": [],
      "source": [
        "# Definindo colunas numéricas (não há colunas categóricas neste conjunto de dados)\n",
        "numeric_features = X.columns.tolist()\n",
        "numeric_transformer = Pipeline(steps=[\n",
        "    ('scaler', StandardScaler())\n",
        "])\n",
        "\n",
        "# Como não temos recursos categóricos, não definimos um transformer categórico\n",
        "preprocessor = ColumnTransformer(\n",
        "    transformers=[\n",
        "        ('num', numeric_transformer, numeric_features)\n",
        "    ])"
      ]
    },
    {
      "cell_type": "markdown",
      "metadata": {
        "id": "T8hgCz7JxIKW"
      },
      "source": [
        "## 5. Otimização de Hiperparâmetros com Grid Search"
      ]
    },
    {
      "cell_type": "markdown",
      "metadata": {
        "id": "_fp2qJoyxIKX"
      },
      "source": [
        "### 5.1 Definindo Modelos e Parâmetros\n",
        "\n",
        "Definiremos uma lista de modelos de regressão e os hiperparâmetros que desejamos otimizar para cada um."
      ]
    },
    {
      "cell_type": "code",
      "execution_count": 8,
      "metadata": {
        "id": "jMPD1LhjxIKX"
      },
      "outputs": [],
      "source": [
        "# Definindo modelos e seus hiperparâmetros\n",
        "models_params = {\n",
        "    'Regressão Linear': {\n",
        "        'model': LinearRegression(),\n",
        "        'params': {}\n",
        "    },\n",
        "    'Ridge Regression': {\n",
        "        'model': Ridge(),\n",
        "        'params': {\n",
        "            'classifier__alpha': [0.1, 1.0, 10.0]\n",
        "        }\n",
        "    },\n",
        "    'Lasso Regression': {\n",
        "        'model': Lasso(),\n",
        "        'params': {\n",
        "            'classifier__alpha': [0.001, 0.01, 0.1, 1.0]\n",
        "        }\n",
        "    },\n",
        "    'Random Forest': {\n",
        "        'model': RandomForestRegressor(),\n",
        "        'params': {\n",
        "            'classifier__n_estimators': [50, 100, 200],\n",
        "            'classifier__max_depth': [None, 5, 10]\n",
        "        }\n",
        "    },\n",
        "    'SVR': {\n",
        "        'model': SVR(),\n",
        "        'params': {\n",
        "            'classifier__C': [0.1, 1, 10],\n",
        "            'classifier__kernel': ['linear', 'rbf']\n",
        "        }\n",
        "    }\n",
        "}"
      ]
    },
    {
      "cell_type": "markdown",
      "metadata": {
        "id": "laZc_MRKxIKX"
      },
      "source": [
        "### 5.2 Executando Grid Search com Validação Cruzada\n",
        "\n",
        "Agora, realizaremos o Grid Search com validação cruzada para cada modelo."
      ]
    },
    {
      "cell_type": "code",
      "execution_count": 9,
      "metadata": {
        "execution": {
          "iopub.status.busy": "2021-10-05T10:15:00.000000Z",
          "iopub.execute_input": "2021-10-05T10:15:00.000000Z",
          "iopub.status.idle": "2021-10-05T10:15:00.000000Z",
          "shell.execute_reply": "2021-10-05T10:15:00.000000Z"
        },
        "id": "gBYxtGNexIKX"
      },
      "outputs": [],
      "source": [
        "# Executando Grid Search com validação cruzada para cada modelo\n",
        "results = []\n",
        "\n",
        "for name, mp in models_params.items():\n",
        "    model = mp['model']\n",
        "    params = mp.get('params', {})\n",
        "\n",
        "    # Criando o pipeline com o modelo atual\n",
        "    pipeline = Pipeline(steps=[\n",
        "        ('preprocessor', preprocessor),\n",
        "        ('classifier', model)\n",
        "    ])\n",
        "\n",
        "    if params:\n",
        "        # Grid Search com validação cruzada\n",
        "        grid_search = GridSearchCV(\n",
        "            estimator=pipeline,\n",
        "            param_grid=params,\n",
        "            cv=5,\n",
        "            scoring='neg_mean_squared_error',\n",
        "            n_jobs=-1\n",
        "        )\n",
        "\n",
        "        # Treinando o modelo\n",
        "        grid_search.fit(X_train, y_train)\n",
        "\n",
        "        # Melhor modelo encontrado\n",
        "        best_model = grid_search.best_estimator_\n",
        "    else:\n",
        "        # Se não há hiperparâmetros para ajustar\n",
        "        pipeline.fit(X_train, y_train)\n",
        "        best_model = pipeline\n",
        "        grid_search = None\n",
        "\n",
        "    # Fazendo previsões no conjunto de teste\n",
        "    y_pred = best_model.predict(X_test)\n",
        "\n",
        "    # Calculando métricas\n",
        "    mae = mean_absolute_error(y_test, y_pred)\n",
        "    mse = mean_squared_error(y_test, y_pred)\n",
        "    rmse = np.sqrt(mse)\n",
        "    r2 = r2_score(y_test, y_pred)\n",
        "\n",
        "    # Armazenando os resultados\n",
        "    results.append({\n",
        "        'Modelo': name,\n",
        "        'Melhores Hiperparâmetros': grid_search.best_params_ if params else 'N/A',\n",
        "        'MAE': mae,\n",
        "        'RMSE': rmse,\n",
        "        'R²': r2,\n",
        "        'Pipeline': best_model  # Armazenando o melhor modelo\n",
        "    })"
      ]
    },
    {
      "cell_type": "markdown",
      "metadata": {
        "id": "cqMR_XuuxIKX"
      },
      "source": [
        "### 5.3 Comparando Modelos Otimizados\n",
        "\n",
        "Vamos visualizar as métricas de cada modelo otimizado em um dataframe."
      ]
    },
    {
      "cell_type": "code",
      "execution_count": 10,
      "metadata": {
        "execution": {
          "iopub.status.busy": "2021-10-05T10:16:00.000000Z",
          "iopub.execute_input": "2021-10-05T10:16:00.000000Z",
          "iopub.status.idle": "2021-10-05T10:16:00.000000Z",
          "shell.execute_reply": "2021-10-05T10:16:00.000000Z"
        },
        "colab": {
          "base_uri": "https://localhost:8080/",
          "height": 206
        },
        "id": "eu9O2XeqxIKX",
        "outputId": "c96c057d-52a9-4800-a579-ffbdd41ca85a"
      },
      "outputs": [
        {
          "data": {
            "application/vnd.google.colaboratory.intrinsic+json": {
              "summary": "{\n  \"name\": \"df_results[['Modelo', 'MAE', 'RMSE', 'R\\u00b2', 'Melhores Hiperpar\\u00e2metros']]\",\n  \"rows\": 5,\n  \"fields\": [\n    {\n      \"column\": \"Modelo\",\n      \"properties\": {\n        \"dtype\": \"string\",\n        \"num_unique_values\": 5,\n        \"samples\": [\n          \"SVR\",\n          \"Regress\\u00e3o Linear\",\n          \"Lasso Regression\"\n        ],\n        \"semantic_type\": \"\",\n        \"description\": \"\"\n      }\n    },\n    {\n      \"column\": \"MAE\",\n      \"properties\": {\n        \"dtype\": \"number\",\n        \"std\": 0.10070886925734764,\n        \"min\": 0.3269946465600777,\n        \"max\": 0.5332001304956565,\n        \"num_unique_values\": 5,\n        \"samples\": [\n          0.37744526282679725,\n          0.5332001304956565,\n          0.5331447750392391\n        ],\n        \"semantic_type\": \"\",\n        \"description\": \"\"\n      }\n    },\n    {\n      \"column\": \"RMSE\",\n      \"properties\": {\n        \"dtype\": \"number\",\n        \"std\": 0.11656177054878543,\n        \"min\": 0.5042457315810528,\n        \"max\": 0.7455813830127763,\n        \"num_unique_values\": 5,\n        \"samples\": [\n          0.568943909879748,\n          0.7455813830127763,\n          0.7446417662764214\n        ],\n        \"semantic_type\": \"\",\n        \"description\": \"\"\n      }\n    },\n    {\n      \"column\": \"R\\u00b2\",\n      \"properties\": {\n        \"dtype\": \"number\",\n        \"std\": 0.11293291309528705,\n        \"min\": 0.575787706032451,\n        \"max\": 0.805966105208592,\n        \"num_unique_values\": 5,\n        \"samples\": [\n          0.7529800406100791,\n          0.575787706032451,\n          0.5768562568705682\n        ],\n        \"semantic_type\": \"\",\n        \"description\": \"\"\n      }\n    },\n    {\n      \"column\": \"Melhores Hiperpar\\u00e2metros\",\n      \"properties\": {\n        \"dtype\": \"object\",\n        \"semantic_type\": \"\",\n        \"description\": \"\"\n      }\n    }\n  ]\n}",
              "type": "dataframe"
            },
            "text/html": [
              "\n",
              "  <div id=\"df-aca6c6bd-f410-4f12-bd45-2cfb4d52766c\" class=\"colab-df-container\">\n",
              "    <div>\n",
              "<style scoped>\n",
              "    .dataframe tbody tr th:only-of-type {\n",
              "        vertical-align: middle;\n",
              "    }\n",
              "\n",
              "    .dataframe tbody tr th {\n",
              "        vertical-align: top;\n",
              "    }\n",
              "\n",
              "    .dataframe thead th {\n",
              "        text-align: right;\n",
              "    }\n",
              "</style>\n",
              "<table border=\"1\" class=\"dataframe\">\n",
              "  <thead>\n",
              "    <tr style=\"text-align: right;\">\n",
              "      <th></th>\n",
              "      <th>Modelo</th>\n",
              "      <th>MAE</th>\n",
              "      <th>RMSE</th>\n",
              "      <th>R²</th>\n",
              "      <th>Melhores Hiperparâmetros</th>\n",
              "    </tr>\n",
              "  </thead>\n",
              "  <tbody>\n",
              "    <tr>\n",
              "      <th>0</th>\n",
              "      <td>Random Forest</td>\n",
              "      <td>0.326995</td>\n",
              "      <td>0.504246</td>\n",
              "      <td>0.805966</td>\n",
              "      <td>{'classifier__max_depth': None, 'classifier__n...</td>\n",
              "    </tr>\n",
              "    <tr>\n",
              "      <th>1</th>\n",
              "      <td>SVR</td>\n",
              "      <td>0.377445</td>\n",
              "      <td>0.568944</td>\n",
              "      <td>0.752980</td>\n",
              "      <td>{'classifier__C': 10, 'classifier__kernel': 'r...</td>\n",
              "    </tr>\n",
              "    <tr>\n",
              "      <th>2</th>\n",
              "      <td>Lasso Regression</td>\n",
              "      <td>0.533145</td>\n",
              "      <td>0.744642</td>\n",
              "      <td>0.576856</td>\n",
              "      <td>{'classifier__alpha': 0.001}</td>\n",
              "    </tr>\n",
              "    <tr>\n",
              "      <th>3</th>\n",
              "      <td>Ridge Regression</td>\n",
              "      <td>0.533199</td>\n",
              "      <td>0.745579</td>\n",
              "      <td>0.575791</td>\n",
              "      <td>{'classifier__alpha': 0.1}</td>\n",
              "    </tr>\n",
              "    <tr>\n",
              "      <th>4</th>\n",
              "      <td>Regressão Linear</td>\n",
              "      <td>0.533200</td>\n",
              "      <td>0.745581</td>\n",
              "      <td>0.575788</td>\n",
              "      <td>N/A</td>\n",
              "    </tr>\n",
              "  </tbody>\n",
              "</table>\n",
              "</div>\n",
              "    <div class=\"colab-df-buttons\">\n",
              "\n",
              "  <div class=\"colab-df-container\">\n",
              "    <button class=\"colab-df-convert\" onclick=\"convertToInteractive('df-aca6c6bd-f410-4f12-bd45-2cfb4d52766c')\"\n",
              "            title=\"Convert this dataframe to an interactive table.\"\n",
              "            style=\"display:none;\">\n",
              "\n",
              "  <svg xmlns=\"http://www.w3.org/2000/svg\" height=\"24px\" viewBox=\"0 -960 960 960\">\n",
              "    <path d=\"M120-120v-720h720v720H120Zm60-500h600v-160H180v160Zm220 220h160v-160H400v160Zm0 220h160v-160H400v160ZM180-400h160v-160H180v160Zm440 0h160v-160H620v160ZM180-180h160v-160H180v160Zm440 0h160v-160H620v160Z\"/>\n",
              "  </svg>\n",
              "    </button>\n",
              "\n",
              "  <style>\n",
              "    .colab-df-container {\n",
              "      display:flex;\n",
              "      gap: 12px;\n",
              "    }\n",
              "\n",
              "    .colab-df-convert {\n",
              "      background-color: #E8F0FE;\n",
              "      border: none;\n",
              "      border-radius: 50%;\n",
              "      cursor: pointer;\n",
              "      display: none;\n",
              "      fill: #1967D2;\n",
              "      height: 32px;\n",
              "      padding: 0 0 0 0;\n",
              "      width: 32px;\n",
              "    }\n",
              "\n",
              "    .colab-df-convert:hover {\n",
              "      background-color: #E2EBFA;\n",
              "      box-shadow: 0px 1px 2px rgba(60, 64, 67, 0.3), 0px 1px 3px 1px rgba(60, 64, 67, 0.15);\n",
              "      fill: #174EA6;\n",
              "    }\n",
              "\n",
              "    .colab-df-buttons div {\n",
              "      margin-bottom: 4px;\n",
              "    }\n",
              "\n",
              "    [theme=dark] .colab-df-convert {\n",
              "      background-color: #3B4455;\n",
              "      fill: #D2E3FC;\n",
              "    }\n",
              "\n",
              "    [theme=dark] .colab-df-convert:hover {\n",
              "      background-color: #434B5C;\n",
              "      box-shadow: 0px 1px 3px 1px rgba(0, 0, 0, 0.15);\n",
              "      filter: drop-shadow(0px 1px 2px rgba(0, 0, 0, 0.3));\n",
              "      fill: #FFFFFF;\n",
              "    }\n",
              "  </style>\n",
              "\n",
              "    <script>\n",
              "      const buttonEl =\n",
              "        document.querySelector('#df-aca6c6bd-f410-4f12-bd45-2cfb4d52766c button.colab-df-convert');\n",
              "      buttonEl.style.display =\n",
              "        google.colab.kernel.accessAllowed ? 'block' : 'none';\n",
              "\n",
              "      async function convertToInteractive(key) {\n",
              "        const element = document.querySelector('#df-aca6c6bd-f410-4f12-bd45-2cfb4d52766c');\n",
              "        const dataTable =\n",
              "          await google.colab.kernel.invokeFunction('convertToInteractive',\n",
              "                                                    [key], {});\n",
              "        if (!dataTable) return;\n",
              "\n",
              "        const docLinkHtml = 'Like what you see? Visit the ' +\n",
              "          '<a target=\"_blank\" href=https://colab.research.google.com/notebooks/data_table.ipynb>data table notebook</a>'\n",
              "          + ' to learn more about interactive tables.';\n",
              "        element.innerHTML = '';\n",
              "        dataTable['output_type'] = 'display_data';\n",
              "        await google.colab.output.renderOutput(dataTable, element);\n",
              "        const docLink = document.createElement('div');\n",
              "        docLink.innerHTML = docLinkHtml;\n",
              "        element.appendChild(docLink);\n",
              "      }\n",
              "    </script>\n",
              "  </div>\n",
              "\n",
              "\n",
              "<div id=\"df-9a922e9c-3b1d-43d8-bede-89fd143a583f\">\n",
              "  <button class=\"colab-df-quickchart\" onclick=\"quickchart('df-9a922e9c-3b1d-43d8-bede-89fd143a583f')\"\n",
              "            title=\"Suggest charts\"\n",
              "            style=\"display:none;\">\n",
              "\n",
              "<svg xmlns=\"http://www.w3.org/2000/svg\" height=\"24px\"viewBox=\"0 0 24 24\"\n",
              "     width=\"24px\">\n",
              "    <g>\n",
              "        <path d=\"M19 3H5c-1.1 0-2 .9-2 2v14c0 1.1.9 2 2 2h14c1.1 0 2-.9 2-2V5c0-1.1-.9-2-2-2zM9 17H7v-7h2v7zm4 0h-2V7h2v10zm4 0h-2v-4h2v4z\"/>\n",
              "    </g>\n",
              "</svg>\n",
              "  </button>\n",
              "\n",
              "<style>\n",
              "  .colab-df-quickchart {\n",
              "      --bg-color: #E8F0FE;\n",
              "      --fill-color: #1967D2;\n",
              "      --hover-bg-color: #E2EBFA;\n",
              "      --hover-fill-color: #174EA6;\n",
              "      --disabled-fill-color: #AAA;\n",
              "      --disabled-bg-color: #DDD;\n",
              "  }\n",
              "\n",
              "  [theme=dark] .colab-df-quickchart {\n",
              "      --bg-color: #3B4455;\n",
              "      --fill-color: #D2E3FC;\n",
              "      --hover-bg-color: #434B5C;\n",
              "      --hover-fill-color: #FFFFFF;\n",
              "      --disabled-bg-color: #3B4455;\n",
              "      --disabled-fill-color: #666;\n",
              "  }\n",
              "\n",
              "  .colab-df-quickchart {\n",
              "    background-color: var(--bg-color);\n",
              "    border: none;\n",
              "    border-radius: 50%;\n",
              "    cursor: pointer;\n",
              "    display: none;\n",
              "    fill: var(--fill-color);\n",
              "    height: 32px;\n",
              "    padding: 0;\n",
              "    width: 32px;\n",
              "  }\n",
              "\n",
              "  .colab-df-quickchart:hover {\n",
              "    background-color: var(--hover-bg-color);\n",
              "    box-shadow: 0 1px 2px rgba(60, 64, 67, 0.3), 0 1px 3px 1px rgba(60, 64, 67, 0.15);\n",
              "    fill: var(--button-hover-fill-color);\n",
              "  }\n",
              "\n",
              "  .colab-df-quickchart-complete:disabled,\n",
              "  .colab-df-quickchart-complete:disabled:hover {\n",
              "    background-color: var(--disabled-bg-color);\n",
              "    fill: var(--disabled-fill-color);\n",
              "    box-shadow: none;\n",
              "  }\n",
              "\n",
              "  .colab-df-spinner {\n",
              "    border: 2px solid var(--fill-color);\n",
              "    border-color: transparent;\n",
              "    border-bottom-color: var(--fill-color);\n",
              "    animation:\n",
              "      spin 1s steps(1) infinite;\n",
              "  }\n",
              "\n",
              "  @keyframes spin {\n",
              "    0% {\n",
              "      border-color: transparent;\n",
              "      border-bottom-color: var(--fill-color);\n",
              "      border-left-color: var(--fill-color);\n",
              "    }\n",
              "    20% {\n",
              "      border-color: transparent;\n",
              "      border-left-color: var(--fill-color);\n",
              "      border-top-color: var(--fill-color);\n",
              "    }\n",
              "    30% {\n",
              "      border-color: transparent;\n",
              "      border-left-color: var(--fill-color);\n",
              "      border-top-color: var(--fill-color);\n",
              "      border-right-color: var(--fill-color);\n",
              "    }\n",
              "    40% {\n",
              "      border-color: transparent;\n",
              "      border-right-color: var(--fill-color);\n",
              "      border-top-color: var(--fill-color);\n",
              "    }\n",
              "    60% {\n",
              "      border-color: transparent;\n",
              "      border-right-color: var(--fill-color);\n",
              "    }\n",
              "    80% {\n",
              "      border-color: transparent;\n",
              "      border-right-color: var(--fill-color);\n",
              "      border-bottom-color: var(--fill-color);\n",
              "    }\n",
              "    90% {\n",
              "      border-color: transparent;\n",
              "      border-bottom-color: var(--fill-color);\n",
              "    }\n",
              "  }\n",
              "</style>\n",
              "\n",
              "  <script>\n",
              "    async function quickchart(key) {\n",
              "      const quickchartButtonEl =\n",
              "        document.querySelector('#' + key + ' button');\n",
              "      quickchartButtonEl.disabled = true;  // To prevent multiple clicks.\n",
              "      quickchartButtonEl.classList.add('colab-df-spinner');\n",
              "      try {\n",
              "        const charts = await google.colab.kernel.invokeFunction(\n",
              "            'suggestCharts', [key], {});\n",
              "      } catch (error) {\n",
              "        console.error('Error during call to suggestCharts:', error);\n",
              "      }\n",
              "      quickchartButtonEl.classList.remove('colab-df-spinner');\n",
              "      quickchartButtonEl.classList.add('colab-df-quickchart-complete');\n",
              "    }\n",
              "    (() => {\n",
              "      let quickchartButtonEl =\n",
              "        document.querySelector('#df-9a922e9c-3b1d-43d8-bede-89fd143a583f button');\n",
              "      quickchartButtonEl.style.display =\n",
              "        google.colab.kernel.accessAllowed ? 'block' : 'none';\n",
              "    })();\n",
              "  </script>\n",
              "</div>\n",
              "\n",
              "    </div>\n",
              "  </div>\n"
            ],
            "text/plain": [
              "             Modelo       MAE      RMSE        R²  \\\n",
              "0     Random Forest  0.326995  0.504246  0.805966   \n",
              "1               SVR  0.377445  0.568944  0.752980   \n",
              "2  Lasso Regression  0.533145  0.744642  0.576856   \n",
              "3  Ridge Regression  0.533199  0.745579  0.575791   \n",
              "4  Regressão Linear  0.533200  0.745581  0.575788   \n",
              "\n",
              "                            Melhores Hiperparâmetros  \n",
              "0  {'classifier__max_depth': None, 'classifier__n...  \n",
              "1  {'classifier__C': 10, 'classifier__kernel': 'r...  \n",
              "2                       {'classifier__alpha': 0.001}  \n",
              "3                         {'classifier__alpha': 0.1}  \n",
              "4                                                N/A  "
            ]
          },
          "execution_count": 10,
          "metadata": {},
          "output_type": "execute_result"
        }
      ],
      "source": [
        "# Comparando os modelos otimizados\n",
        "df_results = pd.DataFrame(results)\n",
        "df_results = df_results.sort_values(by='RMSE')\n",
        "df_results.reset_index(drop=True, inplace=True)\n",
        "df_results[['Modelo', 'MAE', 'RMSE', 'R²', 'Melhores Hiperparâmetros']]"
      ]
    },
    {
      "cell_type": "markdown",
      "metadata": {
        "id": "WvK2iNRxxIKY"
      },
      "source": [
        "## 6. Selecionando e Salvando o Melhor Modelo"
      ]
    },
    {
      "cell_type": "markdown",
      "metadata": {
        "id": "cr8tregZxIKY"
      },
      "source": [
        "### 6.1 Selecionando o Melhor Modelo"
      ]
    },
    {
      "cell_type": "code",
      "execution_count": 11,
      "metadata": {
        "execution": {
          "iopub.status.busy": "2021-10-05T10:17:00.000000Z",
          "iopub.execute_input": "2021-10-05T10:17:00.000000Z",
          "iopub.status.idle": "2021-10-05T10:17:00.000000Z",
          "shell.execute_reply": "2021-10-05T10:17:00.000000Z"
        },
        "colab": {
          "base_uri": "https://localhost:8080/"
        },
        "id": "Pk0z71stxIKY",
        "outputId": "63037e00-c683-4726-d4c1-52b36b5af23f"
      },
      "outputs": [
        {
          "output_type": "stream",
          "name": "stdout",
          "text": [
            "O melhor modelo foi: Random Forest\n",
            "Com hiperparâmetros: {'classifier__max_depth': None, 'classifier__n_estimators': 200}\n"
          ]
        }
      ],
      "source": [
        "# Selecionando o melhor modelo com base no RMSE\n",
        "best_model_name = df_results.loc[0, 'Modelo']\n",
        "best_pipeline = df_results.loc[0, 'Pipeline']\n",
        "\n",
        "print(f\"O melhor modelo foi: {best_model_name}\")\n",
        "print(f\"Com hiperparâmetros: {df_results.loc[0, 'Melhores Hiperparâmetros']}\")"
      ]
    },
    {
      "cell_type": "markdown",
      "metadata": {
        "id": "E74fq4ehxIKY"
      },
      "source": [
        "### 6.2 Salvando o Modelo"
      ]
    },
    {
      "cell_type": "code",
      "execution_count": 12,
      "metadata": {
        "execution": {
          "iopub.status.busy": "2021-10-05T10:18:00.000000Z",
          "iopub.execute_input": "2021-10-05T10:18:00.000000Z",
          "iopub.status.idle": "2021-10-05T10:18:00.000000Z",
          "shell.execute_reply": "2021-10-05T10:18:00.000000Z"
        },
        "colab": {
          "base_uri": "https://localhost:8080/"
        },
        "id": "IP__dCIkxIKY",
        "outputId": "ef9e6bc9-505d-49ca-fd6b-c397bc416dd9"
      },
      "outputs": [
        {
          "output_type": "execute_result",
          "data": {
            "text/plain": [
              "['best_model.pkl']"
            ]
          },
          "metadata": {},
          "execution_count": 12
        }
      ],
      "source": [
        "# Salvando o modelo usando joblib\n",
        "joblib.dump(best_pipeline, 'best_model.pkl')"
      ]
    },
    {
      "cell_type": "markdown",
      "metadata": {
        "id": "RApREvR2xIKY"
      },
      "source": [
        "## 7. Carregando o Modelo e Fazendo Previsões"
      ]
    },
    {
      "cell_type": "markdown",
      "metadata": {
        "id": "Ak__mliNxIKY"
      },
      "source": [
        "### 7.1 Fazendo Previsões com Novas Entradas do Usuário\n",
        "\n",
        "Nesta seção, criaremos uma interface iterativa onde o usuário pode inserir novos dados, e o modelo fará previsões com base nesses dados."
      ]
    },
    {
      "cell_type": "code",
      "execution_count": 13,
      "metadata": {
        "execution": {
          "iopub.status.busy": "2021-10-05T10:19:00.000000Z",
          "iopub.execute_input": "2021-10-05T10:19:00.000000Z",
          "iopub.status.idle": "2021-10-05T10:19:00.000000Z",
          "shell.execute_reply": "2021-10-05T10:19:00.000000Z"
        },
        "id": "S0HDSO9JxIKY"
      },
      "outputs": [],
      "source": [
        "# Carregando o modelo salvo\n",
        "loaded_model = joblib.load('best_model.pkl')"
      ]
    },
    {
      "cell_type": "markdown",
      "metadata": {
        "id": "FHt2oYQkxIKY"
      },
      "source": [
        "#### Função para Obter Dados de Entrada do Usuário"
      ]
    },
    {
      "cell_type": "code",
      "execution_count": 14,
      "metadata": {
        "execution": {
          "iopub.status.busy": "2021-10-05T10:20:00.000000Z",
          "iopub.execute_input": "2021-10-05T10:20:00.000000Z",
          "iopub.status.idle": "2021-10-05T10:20:00.000000Z",
          "shell.execute_reply": "2021-10-05T10:20:00.000000Z"
        },
        "id": "uwbsxYYuxIKY"
      },
      "outputs": [],
      "source": [
        "# Função para obter dados de entrada do usuário\n",
        "def get_user_data():\n",
        "    print(\"Por favor, insira os detalhes da casa:\")\n",
        "\n",
        "    # Solicitando entrada do usuário\n",
        "    MedInc = input(\"MedInc (Renda mediana em dezenas de milhares): \")\n",
        "    while True:\n",
        "        try:\n",
        "            MedInc = float(MedInc)\n",
        "            if MedInc < 0:\n",
        "                raise ValueError\n",
        "            break\n",
        "        except ValueError:\n",
        "            print(\"Valor inválido. Por favor, insira um número positivo.\")\n",
        "            MedInc = input(\"MedInc: \")\n",
        "\n",
        "    HouseAge = input(\"HouseAge (Idade média das casas na área): \")\n",
        "    while True:\n",
        "        try:\n",
        "            HouseAge = float(HouseAge)\n",
        "            if HouseAge < 0:\n",
        "                raise ValueError\n",
        "            break\n",
        "        except ValueError:\n",
        "            print(\"Valor inválido. Por favor, insira um número positivo.\")\n",
        "            HouseAge = input(\"HouseAge: \")\n",
        "\n",
        "    AveRooms = input(\"AveRooms (Média de quartos por casa): \")\n",
        "    while True:\n",
        "        try:\n",
        "            AveRooms = float(AveRooms)\n",
        "            if AveRooms <= 0:\n",
        "                raise ValueError\n",
        "            break\n",
        "        except ValueError:\n",
        "            print(\"Valor inválido. Por favor, insira um número positivo.\")\n",
        "            AveRooms = input(\"AveRooms: \")\n",
        "\n",
        "    AveBedrms = input(\"AveBedrms (Média de quartos por casa): \")\n",
        "    while True:\n",
        "        try:\n",
        "            AveBedrms = float(AveBedrms)\n",
        "            if AveBedrms <= 0:\n",
        "                raise ValueError\n",
        "            break\n",
        "        except ValueError:\n",
        "            print(\"Valor inválido. Por favor, insira um número positivo.\")\n",
        "            AveBedrms = input(\"AveBedrms: \")\n",
        "\n",
        "    Population = input(\"Population (População do quarteirão): \")\n",
        "    while True:\n",
        "        try:\n",
        "            Population = float(Population)\n",
        "            if Population <= 0:\n",
        "                raise ValueError\n",
        "            break\n",
        "        except ValueError:\n",
        "            print(\"Valor inválido. Por favor, insira um número positivo.\")\n",
        "            Population = input(\"Population: \")\n",
        "\n",
        "    AveOccup = input(\"AveOccup (Média de ocupação por casa): \")\n",
        "    while True:\n",
        "        try:\n",
        "            AveOccup = float(AveOccup)\n",
        "            if AveOccup <= 0:\n",
        "                raise ValueError\n",
        "            break\n",
        "        except ValueError:\n",
        "            print(\"Valor inválido. Por favor, insira um número positivo.\")\n",
        "            AveOccup = input(\"AveOccup: \")\n",
        "\n",
        "    Latitude = input(\"Latitude: \")\n",
        "    while True:\n",
        "        try:\n",
        "            Latitude = float(Latitude)\n",
        "            break\n",
        "        except ValueError:\n",
        "            print(\"Valor inválido. Por favor, insira um número.\")\n",
        "            Latitude = input(\"Latitude: \")\n",
        "\n",
        "    Longitude = input(\"Longitude: \")\n",
        "    while True:\n",
        "        try:\n",
        "            Longitude = float(Longitude)\n",
        "            break\n",
        "        except ValueError:\n",
        "            print(\"Valor inválido. Por favor, insira um número.\")\n",
        "            Longitude = input(\"Longitude: \")\n",
        "\n",
        "    # Criando um DataFrame com os dados inseridos\n",
        "    new_house = pd.DataFrame({\n",
        "        'MedInc': [MedInc],\n",
        "        'HouseAge': [HouseAge],\n",
        "        'AveRooms': [AveRooms],\n",
        "        'AveBedrms': [AveBedrms],\n",
        "        'Population': [Population],\n",
        "        'AveOccup': [AveOccup],\n",
        "        'Latitude': [Latitude],\n",
        "        'Longitude': [Longitude]\n",
        "    })\n",
        "\n",
        "    return new_house"
      ]
    },
    {
      "cell_type": "markdown",
      "metadata": {
        "id": "C3uRToPBxIKZ"
      },
      "source": [
        "#### Loop Iterativo para Previsões"
      ]
    },
    {
      "cell_type": "code",
      "execution_count": 16,
      "metadata": {
        "execution": {
          "iopub.status.busy": "2021-10-05T10:21:00.000000Z",
          "iopub.execute_input": "2021-10-05T10:21:00.000000Z",
          "iopub.status.idle": "2021-10-05T10:21:00.000000Z",
          "shell.execute_reply": "2021-10-05T10:21:00.000000Z"
        },
        "colab": {
          "base_uri": "https://localhost:8080/"
        },
        "id": "QB8R24aKxIKZ",
        "outputId": "3e958384-f9af-4f9c-d92e-854a1715142f"
      },
      "outputs": [
        {
          "output_type": "stream",
          "name": "stdout",
          "text": [
            "Por favor, insira os detalhes da casa:\n",
            "MedInc (Renda mediana em dezenas de milhares): 12\n",
            "HouseAge (Idade média das casas na área): 30\n",
            "AveRooms (Média de quartos por casa): 3\n",
            "AveBedrms (Média de quartos por casa): 2\n",
            "Population (População do quarteirão): 20000\n",
            "AveOccup (Média de ocupação por casa): 3\n",
            "Latitude: 2\n",
            "Longitude: 2\n",
            "\n",
            "Preço previsto da casa: $385463.84\n",
            "\n",
            "Gostaria de inserir outra casa? (s/n): n\n",
            "Encerrando previsões.\n"
          ]
        }
      ],
      "source": [
        "# Loop iterativo para fazer previsões\n",
        "while True:\n",
        "    # Obter dados de entrada do usuário\n",
        "    new_house = get_user_data()\n",
        "\n",
        "    # Fazer previsão\n",
        "    prediction = loaded_model.predict(new_house)\n",
        "\n",
        "    predicted_price = prediction[0]\n",
        "\n",
        "    print(f\"\\nPreço previsto da casa: ${predicted_price * 100000:.2f}\\n\")\n",
        "\n",
        "    # Perguntar se o usuário deseja inserir outra casa\n",
        "    continue_input = input(\"Gostaria de inserir outra casa? (s/n): \").lower()\n",
        "    if continue_input != 's':\n",
        "        print(\"Encerrando previsões.\")\n",
        "        break"
      ]
    },
    {
      "cell_type": "markdown",
      "metadata": {
        "id": "QLrXTq7ZxIKZ"
      },
      "source": [
        "## 8. Conclusão\n",
        "\n",
        "Neste notebook, construímos um pipeline de aprendizado de máquina que inclui múltiplos modelos de regressão. Utilizamos o Grid Search com validação cruzada para otimizar os hiperparâmetros de cada modelo. Avaliamos cada modelo usando métricas como MAE, RMSE e R². Com base nessas métricas, selecionamos o melhor modelo otimizado e o salvamos para uso futuro. Finalmente, implementamos uma interface interativa que permite aos usuários inserir novos dados e obter previsões do modelo, tornando a aplicação prática e interativa.\n",
        "\n",
        "Esse processo é essencial em projetos de aprendizado de máquina para garantir que estamos selecionando o modelo e os hiperparâmetros mais apropriados para o nosso problema, além de facilitar a implantação e o uso contínuo do modelo em ambientes do mundo real."
      ]
    },
    {
      "cell_type": "markdown",
      "metadata": {
        "id": "8pqugczkxIKc"
      },
      "source": [
        "## 9. Referências\n",
        "\n",
        "- [Documentação do Scikit-Learn sobre Pipelines](https://scikit-learn.org/stable/modules/compose.html#pipeline)\n",
        "- [Documentação do Scikit-Learn sobre GridSearchCV](https://scikit-learn.org/stable/modules/generated/sklearn.model_selection.GridSearchCV.html)\n",
        "- [Salvando Modelos com Joblib](https://scikit-learn.org/stable/modules/model_persistence.html)\n",
        "- [California Housing Dataset](https://scikit-learn.org/stable/datasets/real_world.html#california-housing-dataset)\n",
        "- [Validação Cruzada no Scikit-Learn](https://scikit-learn.org/stable/modules/cross_validation.html)\n",
        "- [Métricas de Regressão](https://scikit-learn.org/stable/modules/model_evaluation.html#regression-metrics)"
      ]
    }
  ],
  "metadata": {
    "kernelspec": {
      "display_name": "Python 3",
      "language": "python",
      "name": "python3"
    },
    "language_info": {
      "name": "python",
      "version": "",
      "mimetype": "text/x-python",
      "codemirror_mode": {
        "name": "ipython",
        "version": 3
      },
      "pygments_lexer": "ipython3",
      "nbconvert_exporter": "python",
      "file_extension": ".py"
    },
    "colab": {
      "provenance": [],
      "include_colab_link": true
    }
  },
  "nbformat": 4,
  "nbformat_minor": 0
}